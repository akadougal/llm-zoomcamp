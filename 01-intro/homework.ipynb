{
 "cells": [
  {
   "cell_type": "code",
   "execution_count": 62,
   "id": "fe611a78-065d-4289-9b93-57f012f1ba27",
   "metadata": {},
   "outputs": [],
   "source": [
    "import openai"
   ]
  },
  {
   "cell_type": "code",
   "execution_count": 63,
   "id": "6dd87485-085a-4c2a-ba80-38b35ba962d7",
   "metadata": {},
   "outputs": [],
   "source": [
    "from openai import OpenAI"
   ]
  },
  {
   "cell_type": "code",
   "execution_count": 64,
   "id": "10ea2950-6c0a-4353-bccf-cd68792f9f2b",
   "metadata": {},
   "outputs": [],
   "source": [
    "from dotenv import load_dotenv"
   ]
  },
  {
   "cell_type": "code",
   "execution_count": 65,
   "id": "f08ef06c-9b59-4e5a-87c3-9a00e126957c",
   "metadata": {},
   "outputs": [
    {
     "data": {
      "text/plain": [
       "True"
      ]
     },
     "execution_count": 65,
     "metadata": {},
     "output_type": "execute_result"
    }
   ],
   "source": [
    "load_dotenv()  "
   ]
  },
  {
   "cell_type": "code",
   "execution_count": 66,
   "id": "61c2ca3c-b19d-4230-a47b-6f10221f7357",
   "metadata": {},
   "outputs": [],
   "source": [
    "import os"
   ]
  },
  {
   "cell_type": "code",
   "execution_count": 67,
   "id": "93546026-7ce0-4e7b-813b-f3354a2335c6",
   "metadata": {
    "scrolled": true
   },
   "outputs": [],
   "source": [
    "client = OpenAI()"
   ]
  },
  {
   "cell_type": "code",
   "execution_count": 74,
   "id": "a3fac31e-9a7e-4ffe-adef-7dcd4ea7479e",
   "metadata": {},
   "outputs": [],
   "source": [
    "response = client.chat.completions.create(\n",
    "    model='gpt-4o',\n",
    "    messages=[{\"role\": \"user\", \"content\": \"is it too late to join the course?\"}]\n",
    ")"
   ]
  },
  {
   "cell_type": "code",
   "execution_count": 76,
   "id": "0f002e40-8b49-4689-803b-f40178a67705",
   "metadata": {},
   "outputs": [
    {
     "data": {
      "text/plain": [
       "\"I'm not sure which course you're referring to, as you didn't specify. The ability to join a course depends on several factors such as the enrollment deadline, available spots, and prerequisites. Here are a few steps you can take to find out if it's too late to join:\\n\\n1. **Check the Course Website**: Most courses will have information on enrollment deadlines and other important dates on their official site.\\n\\n2. **Contact the Course Administrator**: You can reach out directly to the course provider or an administrator to ask about late enrollment possibilities.\\n\\n3. **Look for Late Registration Options**: Some courses offer late registration for an additional fee or under certain conditions.\\n\\n4. **Consider Auditing**: If enrollment is closed but you're still interested in the course content, see if auditing the course is an option.\\n\\n5. **Future Enrollment**: If it's too late to join this time, inquire about the next available session or similar course offerings.\\n\\nIf you give me more specifics about the course, I might be able to provide more detailed advice.\""
      ]
     },
     "execution_count": 76,
     "metadata": {},
     "output_type": "execute_result"
    }
   ],
   "source": [
    "response.choices[0].message.content"
   ]
  },
  {
   "cell_type": "code",
   "execution_count": null,
   "id": "ebc50ba9-1f59-40e8-982f-7cd0f61ea85f",
   "metadata": {},
   "outputs": [],
   "source": []
  }
 ],
 "metadata": {
  "kernelspec": {
   "display_name": "Python 3 (ipykernel)",
   "language": "python",
   "name": "python3"
  },
  "language_info": {
   "codemirror_mode": {
    "name": "ipython",
    "version": 3
   },
   "file_extension": ".py",
   "mimetype": "text/x-python",
   "name": "python",
   "nbconvert_exporter": "python",
   "pygments_lexer": "ipython3",
   "version": "3.12.1"
  }
 },
 "nbformat": 4,
 "nbformat_minor": 5
}
